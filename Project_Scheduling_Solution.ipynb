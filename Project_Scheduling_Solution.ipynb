{
  "cells": [
    {
      "cell_type": "markdown",
      "metadata": {
        "id": "vlO8ReHHm4_u"
      },
      "source": [
        "# T2E5: Project Scheduling"
      ]
    },
    {
      "cell_type": "code",
      "execution_count": 2,
      "metadata": {
        "id": "4Nw_-F3Nm4_v"
      },
      "outputs": [],
      "source": [
        "# First, as usual, some imports\n",
        "import numpy as np\n",
        "import cvxpy as cp\n",
        "# this time, we also include matplolib pyplot for plotting\n",
        "import matplotlib.pyplot as plt"
      ]
    },
    {
      "cell_type": "markdown",
      "metadata": {
        "id": "avb_HeEsm4_w"
      },
      "source": [
        "In project scheduling we are given a project graph as displayed below. Each node $i\\in \\mathcal V=\\{1,\\ldots, n\\}$ in the graph represents a task, and each arc $(i,j)\\in \\mathcal{E} \\subset \\mathcal{V} \\times \\mathcal{V}$ represents a precedence relation: an arc from $i$ to $j$ means that task $j$ can only be initiated once task $i$ is completed. The task durations are denoted by $\\lbrace d_i \\rbrace_{i=1}^n$.\n",
        "<p align=\"center\">\n",
        "<img src=\"https://drive.google.com/uc?export=view&id=1Lih4PrkbgqiY90sVRfnwOs1AG6_otDO5\">\n",
        "</p>\n",
        "The objective is to minimize the completion time of the project (i.e., the completion time of task $n$). This problem can be reformulated as a linear program of the form\n",
        "\n",
        "$$\n",
        "\\begin{array}{cll}\n",
        " \t\\min & s_n + d_n & \\\\\n",
        " \t\\text{s.t.} & s_i \\geq 0 & \\forall i \\in \\lbrace 1,2,\\ldots,n \\rbrace \\\\\n",
        " \t & s_v \\geq s_u + d_u & \\forall (u,v) \\in \\mathcal{E},\n",
        "\\end{array}\n",
        "$$\n",
        "<br>\n",
        "where the decision variable $s_i$ represents the start time of task $i$, while $\\boldsymbol{s}=(s_1,\\ldots, s_n)$ is referred to as the project schedule. When implementing project scheduling problems, it is convenient (but not necessary) to represent the project graph by an adjacency matrix $\\boldsymbol{A}\\in \\{0,1\\}^{n\\times n}$ and the task durations by a vector $\\boldsymbol{d}=\\lbrace d_1,\\ldots, d_n\\rbrace^\\top\\in\\mathbb R^n$. In the example of the Figure just above, we set\n",
        "<br>\n",
        "$$\n",
        "\t\\boldsymbol{A} = \\left[ \\begin{array}{cccccc}\n",
        "\t\t\t\t\t\t \t\t0 & 1 & 0 & 1 & 0 & 0 \\\\\n",
        "                        \t\t0 & 0 & 1 & 0 & 1 & 0 \\\\\n",
        "                        \t\t0 & 0 & 0 & 0 & 0 & 1 \\\\\n",
        "                        \t\t0 & 0 & 0 & 0 & 1 & 0 \\\\\n",
        "                        \t\t0 & 0 & 0 & 0 & 0 & 1 \\\\\n",
        "                        \t\t0 & 0 & 0 & 0 & 0 & 0\n",
        "\t              \t\t \\end{array} \\right]~\\text{and}~\n",
        "\t\\boldsymbol{d}=   \\left[ \\begin{array}{c}\n",
        "\t\t\t\t\t\t \t\t4 \\\\ 5 \\\\ 6 \\\\ 1 \\\\ 8 \\\\ 5\n",
        "\t    \t\t\t\t \\end{array} \\right],\n",
        "$$\n",
        "<br>\n",
        "where $A_{ij}=1$ if $(i,j)\\in\\mathcal E$ and $A_{ij}=0$ if $(i,j)\\notin\\mathcal E$."
      ]
    },
    {
      "cell_type": "markdown",
      "metadata": {
        "id": "cipFNiO4m4_w"
      },
      "source": [
        "## 1) Solving the Problem\n",
        "Implement and solve a linear program that finds the optimal schedule for the project given by $\\boldsymbol{A}$ and $\\boldsymbol{d}$.<br>\n",
        "We define $\\boldsymbol{A}$ and $\\boldsymbol{d}$ as numpy arrays for your conviencience."
      ]
    },
    {
      "cell_type": "code",
      "execution_count": 4,
      "metadata": {
        "id": "voKzkI_Rm4_w"
      },
      "outputs": [],
      "source": [
        "A = np.array([[0, 1, 0, 1, 0, 0],\n",
        "              [0, 0, 1, 0, 1, 0],\n",
        "              [0, 0, 0, 0, 0, 1],\n",
        "              [0, 0, 0, 0, 1, 0],\n",
        "              [0, 0, 0, 0, 0, 1],\n",
        "              [0, 0, 0, 0, 0, 0]])\n",
        "\n",
        "d = np.array([4, 5, 6, 1, 8, 5])"
      ]
    },
    {
      "cell_type": "markdown",
      "metadata": {
        "id": "c9Yj-CuPm4_w"
      },
      "source": [
        "Now, define the variable, objective and constraints just like we did in the tutorial: <br>\n",
        "*Hint: You can define the constraints either by writing them out yourself, or by looping over the adjacency matrix and `.append` the constraint to the list of constraints if the adjacency entry is 1*"
      ]
    },
    {
      "cell_type": "code",
      "execution_count": 5,
      "metadata": {
        "id": "FdQsnHhGm4_x"
      },
      "outputs": [],
      "source": [
        "# define the decision variables\n",
        "s = cp.Variable(6)\n",
        "# define the objective\n",
        "objective = cp.Minimize(s[5]+d[5])"
      ]
    },
    {
      "cell_type": "code",
      "execution_count": 6,
      "metadata": {
        "id": "FlwwcbnGm4_x"
      },
      "outputs": [],
      "source": [
        "# define the constraints\n",
        "# smart way: use list.append\n",
        "constraints = [s>=0]\n",
        "for u in range(6):\n",
        "    for v in range(6):\n",
        "        if A[u,v]:\n",
        "            constraints.append(s[v]>=s[u]+d[u])"
      ]
    },
    {
      "cell_type": "code",
      "execution_count": 7,
      "metadata": {
        "id": "bq7-clD_m4_x"
      },
      "outputs": [],
      "source": [
        "# simple way, just write everything out\n",
        "constraints2 = [\n",
        "    s >= 0,\n",
        "    s[1] >= s[0] + d[0],\n",
        "    s[3] >= s[0] + d[0],\n",
        "    s[2] >= s[1] + d[1],\n",
        "    s[4] >= s[1] + d[1],\n",
        "    s[5] >= s[2] + d[2],\n",
        "    s[4] >= s[3] + d[3],\n",
        "    s[5] >= s[4] + d[4],\n",
        "]"
      ]
    },
    {
      "cell_type": "markdown",
      "metadata": {
        "id": "VVuvh3Yzm4_x"
      },
      "source": [
        "You are ready to solve the problem. Display the earliest you can finish (optimal value) and start times of all your tasks."
      ]
    },
    {
      "cell_type": "code",
      "execution_count": 8,
      "metadata": {
        "id": "Lb4wKcNkm4_x"
      },
      "outputs": [],
      "source": [
        "problem = cp.Problem(objective, constraints)"
      ]
    },
    {
      "cell_type": "code",
      "execution_count": 9,
      "metadata": {
        "colab": {
          "base_uri": "https://localhost:8080/"
        },
        "id": "l78w4Eclm4_x",
        "outputId": "d5d9a670-9a04-4014-97ee-3178c20dc8f3"
      },
      "outputs": [
        {
          "output_type": "execute_result",
          "data": {
            "text/plain": [
              "22.00000001184628"
            ]
          },
          "metadata": {},
          "execution_count": 9
        }
      ],
      "source": [
        "problem.solve()"
      ]
    },
    {
      "cell_type": "code",
      "execution_count": 10,
      "metadata": {
        "colab": {
          "base_uri": "https://localhost:8080/"
        },
        "id": "ct1u9Bqjm4_y",
        "outputId": "7fcfc3f0-9388-4016-e4a9-e791db49371b"
      },
      "outputs": [
        {
          "output_type": "execute_result",
          "data": {
            "text/plain": [
              "array([5.28322267e-10, 4.00000000e+00, 9.80682416e+00, 5.98211635e+00,\n",
              "       9.00000001e+00, 1.70000000e+01])"
            ]
          },
          "metadata": {},
          "execution_count": 10
        }
      ],
      "source": [
        "s.value"
      ]
    },
    {
      "cell_type": "markdown",
      "metadata": {
        "id": "5Gic_HWum4_y"
      },
      "source": [
        "Below, we define a function you can use for plotting the processes. You can call it as `plot_process(start_times, durations)`"
      ]
    },
    {
      "cell_type": "code",
      "execution_count": 11,
      "metadata": {
        "id": "yT8hLSw5m4_y"
      },
      "outputs": [],
      "source": [
        "def plot_process(start_times, durations):\n",
        "    plt.bar(list(range(len(start_times))), start_times.flatten()+durations.flatten())\n",
        "    plt.bar(list(range(len(start_times))), start_times.flatten(),color='white')\n",
        "    plt.xlabel('Task ID')\n",
        "    plt.ylabel('Time')\n",
        "    plt.title('Task Plan')"
      ]
    },
    {
      "cell_type": "code",
      "execution_count": 12,
      "metadata": {
        "colab": {
          "base_uri": "https://localhost:8080/",
          "height": 472
        },
        "id": "GekUmjofm4_y",
        "outputId": "cf3386b3-addf-45c5-80cf-d802d0c413ba"
      },
      "outputs": [
        {
          "output_type": "display_data",
          "data": {
            "text/plain": [
              "<Figure size 640x480 with 1 Axes>"
            ],
            "image/png": "[encoded data removed]"
          },
          "metadata": {}
        }
      ],
      "source": [
        "plot_process(s.value, d)"
      ]
    },
    {
      "cell_type": "markdown",
      "metadata": {
        "id": "sPYXEhdym4_y"
      },
      "source": [
        "## 2) Adding a loop\n",
        "Now, add an edge (0,1) to $\\mathcal{E}$. This creates a loop inside the depency. What happens? Why?"
      ]
    },
    {
      "cell_type": "markdown",
      "metadata": {
        "id": "5Wz9QjiSm4_y"
      },
      "source": [
        "Hint: Just change the constraints, you can copy the majority of your code from above."
      ]
    },
    {
      "cell_type": "code",
      "execution_count": 13,
      "metadata": {
        "id": "EWSLaQ7Km4_y"
      },
      "outputs": [],
      "source": [
        "A = np.array([[0, 1, 0, 1, 0, 0],\n",
        "              [1, 0, 1, 0, 1, 0],\n",
        "              [0, 0, 0, 0, 0, 1],\n",
        "              [0, 0, 0, 0, 1, 0],\n",
        "              [0, 0, 0, 0, 0, 1],\n",
        "              [0, 0, 0, 0, 0, 0]])\n",
        "\n",
        "d = np.array([4, 5, 6, 1, 8, 5])"
      ]
    },
    {
      "cell_type": "code",
      "execution_count": 14,
      "metadata": {
        "id": "cgvVBY2hm4_y"
      },
      "outputs": [],
      "source": [
        "# define the decision variables\n",
        "s = cp.Variable(6)\n",
        "# define the objective\n",
        "objective = cp.Minimize(s[5]+d[5])"
      ]
    },
    {
      "cell_type": "code",
      "execution_count": 15,
      "metadata": {
        "id": "bjidnuCDm4_y"
      },
      "outputs": [],
      "source": [
        "# define the constraints\n",
        "# smart way: use list.append\n",
        "constraints = [s>=0]\n",
        "for u in range(6):\n",
        "    for v in range(6):\n",
        "        if A[u,v]:\n",
        "            constraints.append(s[v]>=s[u]+d[u])"
      ]
    },
    {
      "cell_type": "code",
      "execution_count": 16,
      "metadata": {
        "id": "dMB5DlrZm4_y"
      },
      "outputs": [],
      "source": [
        "problem = cp.Problem(objective, constraints)"
      ]
    },
    {
      "cell_type": "code",
      "execution_count": 17,
      "metadata": {
        "colab": {
          "base_uri": "https://localhost:8080/"
        },
        "id": "NOlQz83Qm4_y",
        "outputId": "bc74273c-492a-4164-8528-b4f16dbdef7c"
      },
      "outputs": [
        {
          "output_type": "execute_result",
          "data": {
            "text/plain": [
              "inf"
            ]
          },
          "metadata": {},
          "execution_count": 17
        }
      ],
      "source": [
        "problem.solve()"
      ]
    },
    {
      "cell_type": "markdown",
      "metadata": {
        "id": "TlpU3t1Im4_z"
      },
      "source": [
        "An infinite objective Value signifies infeasibility"
      ]
    },
    {
      "cell_type": "markdown",
      "metadata": {
        "id": "ILzzRLiDm4_z"
      },
      "source": [
        "## 3) Loading Data for a larger Project\n",
        "Consider now a larger project. The data of this problem ($\\boldsymbol{A}$ and $\\boldsymbol{d}$) is provided in the file `Data.zip`. Implement and solve the linear program that finds the optimal schedule for this project.\n",
        "<p align=\"center\">\n",
        "<img src=\"https://drive.google.com/uc?export=view&id=12t9OXVqdiJHEt9fnTNj66m9_XH2NxDeY\">\n",
        "</p>\n",
        "Today, we will load the data for you, later you have to do this on your own:"
      ]
    },
    {
      "cell_type": "code",
      "execution_count": 18,
      "metadata": {
        "id": "MPXaPyDQm4_z"
      },
      "outputs": [],
      "source": [
        "A = np.loadtxt('A.csv', delimiter=',')\n",
        "d = np.expand_dims(np.loadtxt('d.csv', delimiter=','), 1)"
      ]
    },
    {
      "cell_type": "code",
      "execution_count": 22,
      "metadata": {
        "id": "CM91gBkMm4_z"
      },
      "outputs": [],
      "source": [
        "# define the decision variables\n",
        "n = len(d)\n",
        "s = cp.Variable(n)\n",
        "# define the objective\n",
        "objective = cp.Minimize(s[n-1]+d[n-1])"
      ]
    },
    {
      "cell_type": "code",
      "execution_count": 23,
      "metadata": {
        "id": "kLDNub8mm4_z"
      },
      "outputs": [],
      "source": [
        "# define the constraints\n",
        "# smart way: use list.append\n",
        "constraints = [s>=0]\n",
        "for u in range(n):\n",
        "    for v in range(n):\n",
        "        if A[u,v]:\n",
        "            constraints.append(s[v]>=s[u]+d[u])"
      ]
    },
    {
      "cell_type": "code",
      "execution_count": 24,
      "metadata": {
        "id": "unc2n3t8m4_z"
      },
      "outputs": [],
      "source": [
        "problem = cp.Problem(objective, constraints)"
      ]
    },
    {
      "cell_type": "code",
      "execution_count": 25,
      "metadata": {
        "colab": {
          "base_uri": "https://localhost:8080/"
        },
        "id": "OQbEwDqcm4_z",
        "outputId": "d2caeb09-c76b-4dc8-d026-0f1d176d0ee2"
      },
      "outputs": [
        {
          "output_type": "execute_result",
          "data": {
            "text/plain": [
              "45.00000010273833"
            ]
          },
          "metadata": {},
          "execution_count": 25
        }
      ],
      "source": [
        "problem.solve()"
      ]
    },
    {
      "cell_type": "code",
      "execution_count": 26,
      "metadata": {
        "colab": {
          "base_uri": "https://localhost:8080/",
          "height": 472
        },
        "id": "EutPm-4Em4_z",
        "outputId": "ccccf554-2008-4d6d-b53b-21bd785f6eeb"
      },
      "outputs": [
        {
          "output_type": "display_data",
          "data": {
            "text/plain": [
              "<Figure size 640x480 with 1 Axes>"
            ],
            "image/png": "[encoded data removed]"
          },
          "metadata": {}
        }
      ],
      "source": [
        "plot_process(s.value, d)"
      ]
    }
  ],
  "metadata": {
    "kernelspec": {
      "display_name": "Optimal Decision Making",
      "language": "python",
      "name": "odm"
    },
    "language_info": {
      "codemirror_mode": {
        "name": "ipython",
        "version": 3
      },
      "file_extension": ".py",
      "mimetype": "text/x-python",
      "name": "python",
      "nbconvert_exporter": "python",
      "pygments_lexer": "ipython3",
      "version": "3.6.9"
    },
    "colab": {
      "provenance": []
    }
  },
  "nbformat": 4,
  "nbformat_minor": 0
}